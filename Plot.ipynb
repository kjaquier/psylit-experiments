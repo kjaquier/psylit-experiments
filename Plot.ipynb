{
 "cells": [
  {
   "cell_type": "code",
   "execution_count": 1,
   "metadata": {},
   "outputs": [
    {
     "data": {
      "text/html": [
       "<script type=\"text/javascript\">window.PlotlyConfig = {MathJaxConfig: 'local'};</script><script type=\"text/javascript\">if (window.MathJax) {MathJax.Hub.Config({SVG: {font: \"STIX-Web\"}});}</script><script>requirejs.config({paths: { 'plotly': ['https://cdn.plot.ly/plotly-latest.min']},});if(!window._Plotly) {require(['plotly'],function(plotly) {window._Plotly=plotly;});}</script>"
      ],
      "text/vnd.plotly.v1+html": [
       "<script type=\"text/javascript\">window.PlotlyConfig = {MathJaxConfig: 'local'};</script><script type=\"text/javascript\">if (window.MathJax) {MathJax.Hub.Config({SVG: {font: \"STIX-Web\"}});}</script><script>requirejs.config({paths: { 'plotly': ['https://cdn.plot.ly/plotly-latest.min']},});if(!window._Plotly) {require(['plotly'],function(plotly) {window._Plotly=plotly;});}</script>"
      ]
     },
     "metadata": {},
     "output_type": "display_data"
    },
    {
     "data": {
      "application/vnd.plotly.v1+json": {
       "config": {
        "linkText": "Export to plot.ly",
        "plotlyServerURL": "https://plot.ly",
        "showLink": false
       },
       "data": [
        {
         "type": "scatter",
         "uid": "bee94701-a40f-43fb-a5f6-fcd2f49d87d7",
         "x": [
          1,
          2,
          3,
          4
         ],
         "y": [
          4,
          3,
          2,
          1
         ]
        }
       ],
       "layout": {
        "title": {
         "text": "hello world"
        }
       }
      },
      "text/html": [
       "<div id=\"aa5965aa-dea3-4b27-9f9c-b47486ec70f0\" style=\"height: 525px; width: 100%;\" class=\"plotly-graph-div\"></div><script type=\"text/javascript\">require([\"plotly\"], function(Plotly) { window.PLOTLYENV=window.PLOTLYENV || {};window.PLOTLYENV.BASE_URL=\"https://plot.ly\";Plotly.newPlot(\"aa5965aa-dea3-4b27-9f9c-b47486ec70f0\", [{\"x\": [1, 2, 3, 4], \"y\": [4, 3, 2, 1], \"type\": \"scatter\", \"uid\": \"004d94a1-e745-4e5f-a491-63b1a6c15a1e\"}], {\"title\": {\"text\": \"hello world\"}}, {\"showLink\": false, \"linkText\": \"Export to plot.ly\", \"plotlyServerURL\": \"https://plot.ly\"})});</script><script type=\"text/javascript\">window.addEventListener(\"resize\", function(){window._Plotly.Plots.resize(document.getElementById(\"aa5965aa-dea3-4b27-9f9c-b47486ec70f0\"));});</script>"
      ],
      "text/vnd.plotly.v1+html": [
       "<div id=\"aa5965aa-dea3-4b27-9f9c-b47486ec70f0\" style=\"height: 525px; width: 100%;\" class=\"plotly-graph-div\"></div><script type=\"text/javascript\">require([\"plotly\"], function(Plotly) { window.PLOTLYENV=window.PLOTLYENV || {};window.PLOTLYENV.BASE_URL=\"https://plot.ly\";Plotly.newPlot(\"aa5965aa-dea3-4b27-9f9c-b47486ec70f0\", [{\"x\": [1, 2, 3, 4], \"y\": [4, 3, 2, 1], \"type\": \"scatter\", \"uid\": \"004d94a1-e745-4e5f-a491-63b1a6c15a1e\"}], {\"title\": {\"text\": \"hello world\"}}, {\"showLink\": false, \"linkText\": \"Export to plot.ly\", \"plotlyServerURL\": \"https://plot.ly\"})});</script><script type=\"text/javascript\">window.addEventListener(\"resize\", function(){window._Plotly.Plots.resize(document.getElementById(\"aa5965aa-dea3-4b27-9f9c-b47486ec70f0\"));});</script>"
      ]
     },
     "metadata": {},
     "output_type": "display_data"
    }
   ],
   "source": [
    "import plotly\n",
    "import plotly.graph_objs as go\n",
    "\n",
    "plotly.offline.init_notebook_mode(connected=True)\n",
    "\n",
    "plotly.offline.iplot({\n",
    "    \"data\": [go.Scatter(x=[1, 2, 3, 4], y=[4, 3, 2, 1])],\n",
    "    \"layout\": go.Layout(title=\"hello world\")\n",
    "})"
   ]
  },
  {
   "cell_type": "code",
   "execution_count": 3,
   "metadata": {},
   "outputs": [],
   "source": [
    "import igraph as ig\n",
    "import numpy as np"
   ]
  },
  {
   "cell_type": "code",
   "execution_count": 15,
   "metadata": {},
   "outputs": [
    {
     "data": {
      "text/plain": [
       "[(8, 2),\n",
       " (4, 7),\n",
       " (8, 8),\n",
       " (5, 9),\n",
       " (3, 3),\n",
       " (7, 7),\n",
       " (4, 1),\n",
       " (3, 4),\n",
       " (4, 8),\n",
       " (8, 9)]"
      ]
     },
     "execution_count": 15,
     "metadata": {},
     "output_type": "execute_result"
    }
   ],
   "source": [
    "src = np.random.randint(10, size=10)\n",
    "dst = np.random.randint(10, size=10)\n",
    "edges = list(zip(src, dst))\n",
    "edges"
   ]
  },
  {
   "cell_type": "code",
   "execution_count": 17,
   "metadata": {},
   "outputs": [],
   "source": [
    "G=ig.Graph(edges, directed=False)\n",
    "layt=G.layout('kk', dim=3) "
   ]
  },
  {
   "cell_type": "code",
   "execution_count": 27,
   "metadata": {},
   "outputs": [
    {
     "ename": "TypeError",
     "evalue": "list indices must be integers or slices, not tuple",
     "output_type": "error",
     "traceback": [
      "\u001b[1;31m---------------------------------------------------------------------------\u001b[0m",
      "\u001b[1;31mTypeError\u001b[0m                                 Traceback (most recent call last)",
      "\u001b[1;32m<ipython-input-27-038c0d106e0b>\u001b[0m in \u001b[0;36m<module>\u001b[1;34m\u001b[0m\n\u001b[0;32m      1\u001b[0m \u001b[0mN\u001b[0m \u001b[1;33m=\u001b[0m \u001b[1;36m10\u001b[0m\u001b[1;33m\u001b[0m\u001b[1;33m\u001b[0m\u001b[0m\n\u001b[1;32m----> 2\u001b[1;33m \u001b[0mXn\u001b[0m\u001b[1;33m=\u001b[0m\u001b[0mlayt\u001b[0m\u001b[1;33m[\u001b[0m\u001b[1;33m:\u001b[0m\u001b[1;33m,\u001b[0m\u001b[1;36m0\u001b[0m\u001b[1;33m]\u001b[0m\u001b[1;33m\u001b[0m\u001b[1;33m\u001b[0m\u001b[0m\n\u001b[0m\u001b[0;32m      3\u001b[0m \u001b[0mYn\u001b[0m\u001b[1;33m=\u001b[0m\u001b[1;33m[\u001b[0m\u001b[0mlayt\u001b[0m\u001b[1;33m[\u001b[0m\u001b[0mk\u001b[0m\u001b[1;33m]\u001b[0m\u001b[1;33m[\u001b[0m\u001b[1;36m1\u001b[0m\u001b[1;33m]\u001b[0m \u001b[1;32mfor\u001b[0m \u001b[0mk\u001b[0m \u001b[1;32min\u001b[0m \u001b[0mrange\u001b[0m\u001b[1;33m(\u001b[0m\u001b[0mN\u001b[0m\u001b[1;33m)\u001b[0m\u001b[1;33m]\u001b[0m\u001b[1;31m# y-coordinates\u001b[0m\u001b[1;33m\u001b[0m\u001b[1;33m\u001b[0m\u001b[0m\n\u001b[0;32m      4\u001b[0m \u001b[0mZn\u001b[0m\u001b[1;33m=\u001b[0m\u001b[1;33m[\u001b[0m\u001b[0mlayt\u001b[0m\u001b[1;33m[\u001b[0m\u001b[0mk\u001b[0m\u001b[1;33m]\u001b[0m\u001b[1;33m[\u001b[0m\u001b[1;36m2\u001b[0m\u001b[1;33m]\u001b[0m \u001b[1;32mfor\u001b[0m \u001b[0mk\u001b[0m \u001b[1;32min\u001b[0m \u001b[0mrange\u001b[0m\u001b[1;33m(\u001b[0m\u001b[0mN\u001b[0m\u001b[1;33m)\u001b[0m\u001b[1;33m]\u001b[0m\u001b[1;31m# z-coordinates\u001b[0m\u001b[1;33m\u001b[0m\u001b[1;33m\u001b[0m\u001b[0m\n\u001b[0;32m      5\u001b[0m \u001b[0mXe\u001b[0m\u001b[1;33m=\u001b[0m\u001b[1;33m[\u001b[0m\u001b[1;33m]\u001b[0m\u001b[1;33m\u001b[0m\u001b[1;33m\u001b[0m\u001b[0m\n",
      "\u001b[1;32m~\\AppData\\Local\\conda\\conda\\envs\\tic-psy\\lib\\site-packages\\igraph\\layout.py\u001b[0m in \u001b[0;36m__getitem__\u001b[1;34m(self, idx)\u001b[0m\n\u001b[0;32m     98\u001b[0m \u001b[1;33m\u001b[0m\u001b[0m\n\u001b[0;32m     99\u001b[0m     \u001b[1;32mdef\u001b[0m \u001b[0m__getitem__\u001b[0m\u001b[1;33m(\u001b[0m\u001b[0mself\u001b[0m\u001b[1;33m,\u001b[0m \u001b[0midx\u001b[0m\u001b[1;33m)\u001b[0m\u001b[1;33m:\u001b[0m\u001b[1;33m\u001b[0m\u001b[1;33m\u001b[0m\u001b[0m\n\u001b[1;32m--> 100\u001b[1;33m         \u001b[1;32mreturn\u001b[0m \u001b[0mself\u001b[0m\u001b[1;33m.\u001b[0m\u001b[0m_coords\u001b[0m\u001b[1;33m[\u001b[0m\u001b[0midx\u001b[0m\u001b[1;33m]\u001b[0m\u001b[1;33m\u001b[0m\u001b[1;33m\u001b[0m\u001b[0m\n\u001b[0m\u001b[0;32m    101\u001b[0m \u001b[1;33m\u001b[0m\u001b[0m\n\u001b[0;32m    102\u001b[0m     \u001b[1;32mdef\u001b[0m \u001b[0m__setitem__\u001b[0m\u001b[1;33m(\u001b[0m\u001b[0mself\u001b[0m\u001b[1;33m,\u001b[0m \u001b[0midx\u001b[0m\u001b[1;33m,\u001b[0m \u001b[0mvalue\u001b[0m\u001b[1;33m)\u001b[0m\u001b[1;33m:\u001b[0m\u001b[1;33m\u001b[0m\u001b[1;33m\u001b[0m\u001b[0m\n",
      "\u001b[1;31mTypeError\u001b[0m: list indices must be integers or slices, not tuple"
     ]
    }
   ],
   "source": [
    "N = 10\n",
    "Xn=layt[:,0]\n",
    "Yn=[layt[k][1] for k in range(N)]# y-coordinates\n",
    "Zn=[layt[k][2] for k in range(N)]# z-coordinates\n",
    "Xe=[]\n",
    "Ye=[]\n",
    "Ze=[]\n",
    "for e in edges:\n",
    "    Xe+=[layt[e[0]][0],layt[e[1]][0], None]# x-coordinates of edge ends\n",
    "    Ye+=[layt[e[0]][1],layt[e[1]][1], None]  \n",
    "    Ze+=[layt[e[0]][2],layt[e[1]][2], None] "
   ]
  },
  {
   "cell_type": "code",
   "execution_count": 28,
   "metadata": {},
   "outputs": [
    {
     "data": {
      "application/vnd.plotly.v1+json": {
       "config": {
        "linkText": "Export to plot.ly",
        "plotlyServerURL": "https://plot.ly",
        "showLink": false
       },
       "data": [
        {
         "hoverinfo": "none",
         "line": {
          "color": "rgb(125,125,125)",
          "width": 1
         },
         "mode": "lines",
         "type": "scatter3d",
         "uid": "affe71f7-aa82-40af-b1c4-c43e95965b13",
         "x": [
          0.6792587556280193,
          0.12338609137842327,
          null,
          0.15179756620801932,
          -0.7705859072496125,
          null,
          0.6792587556280193,
          0.6792587556280193,
          null,
          2.5124503497806856,
          1.699658984550059,
          null,
          0.7144883004821848,
          0.7144883004821848,
          null,
          -0.7705859072496125,
          -0.7705859072496125,
          null,
          0.15179756620801932,
          -0.37387418439652853,
          null,
          0.7144883004821848,
          0.15179756620801932,
          null,
          0.15179756620801932,
          0.6792587556280193,
          null,
          0.6792587556280193,
          1.699658984550059,
          null
         ],
         "y": [
          -0.28041388352196917,
          -0.8065721579072184,
          null,
          0.4509374277943182,
          0.9604758684125814,
          null,
          -0.28041388352196917,
          -0.28041388352196917,
          null,
          -1.3283207353192399,
          -0.687494871308295,
          null,
          1.3156186455897811,
          1.3156186455897811,
          null,
          0.9604758684125814,
          0.9604758684125814,
          null,
          0.4509374277943182,
          0.15780691243261635,
          null,
          1.3156186455897811,
          0.4509374277943182,
          null,
          0.4509374277943182,
          -0.28041388352196917,
          null,
          -0.28041388352196917,
          -0.687494871308295,
          null
         ],
         "z": [
          -1.6409662695906904,
          -2.451822273598494,
          null,
          -0.9037133142836099,
          -1.2627355885982237,
          null,
          -1.6409662695906904,
          -1.6409662695906904,
          null,
          -1.855827875352495,
          -1.7637170442806573,
          null,
          -0.46634924053880916,
          -0.46634924053880916,
          null,
          -1.2627355885982237,
          -1.2627355885982237,
          null,
          -0.9037133142836099,
          0.0674047915008487,
          null,
          -0.46634924053880916,
          -0.9037133142836099,
          null,
          -0.9037133142836099,
          -1.6409662695906904,
          null,
          -1.6409662695906904,
          -1.7637170442806573,
          null
         ]
        },
        {
         "hoverinfo": "text",
         "marker": {
          "colorscale": "Viridis",
          "line": {
           "color": "rgb(50,50,50)",
           "width": 0.5
          },
          "size": 6,
          "symbol": "circle"
         },
         "mode": "markers",
         "name": "actors",
         "type": "scatter3d",
         "uid": "855a09c4-eb56-406d-8e11-ba355aff5f8d",
         "x": [
          -0.8578711318271924,
          -0.37387418439652853,
          0.12338609137842327,
          0.7144883004821848,
          0.15179756620801932,
          2.5124503497806856,
          1.819776869963468,
          -0.7705859072496125,
          0.6792587556280193,
          1.699658984550059
         ],
         "y": [
          -3.2473840949913084,
          0.15780691243261635,
          -0.8065721579072184,
          1.3156186455897811,
          0.4509374277943182,
          -1.3283207353192399,
          -1.4877402562014772,
          0.9604758684125814,
          -0.28041388352196917,
          -0.687494871308295
         ],
         "z": [
          -0.01987706127780521,
          0.0674047915008487,
          -2.451822273598494,
          -0.46634924053880916,
          -0.9037133142836099,
          -1.855827875352495,
          1.9117157589365457,
          -1.2627355885982237,
          -1.6409662695906904,
          -1.7637170442806573
         ]
        }
       ],
       "layout": {
        "height": 1000,
        "hovermode": "closest",
        "margin": {
         "t": 100
        },
        "scene": {
         "xaxis": {
          "showbackground": false,
          "showgrid": false,
          "showline": false,
          "showticklabels": false,
          "title": {
           "text": ""
          },
          "zeroline": false
         },
         "yaxis": {
          "showbackground": false,
          "showgrid": false,
          "showline": false,
          "showticklabels": false,
          "title": {
           "text": ""
          },
          "zeroline": false
         },
         "zaxis": {
          "showbackground": false,
          "showgrid": false,
          "showline": false,
          "showticklabels": false,
          "title": {
           "text": ""
          },
          "zeroline": false
         }
        },
        "showlegend": false,
        "title": {
         "text": "Network of coappearances of characters in Victor Hugo's novel<br> Les Miserables (3D visualization)"
        },
        "width": 1000
       }
      },
      "text/html": [
       "<div id=\"986cdb54-7d3d-45d7-9460-729c746357e5\" style=\"height: 1000px; width: 1000px;\" class=\"plotly-graph-div\"></div><script type=\"text/javascript\">require([\"plotly\"], function(Plotly) { window.PLOTLYENV=window.PLOTLYENV || {};window.PLOTLYENV.BASE_URL=\"https://plot.ly\";Plotly.newPlot(\"986cdb54-7d3d-45d7-9460-729c746357e5\", [{\"hoverinfo\": \"none\", \"line\": {\"color\": \"rgb(125,125,125)\", \"width\": 1}, \"mode\": \"lines\", \"x\": [0.6792587556280193, 0.12338609137842327, null, 0.15179756620801932, -0.7705859072496125, null, 0.6792587556280193, 0.6792587556280193, null, 2.5124503497806856, 1.699658984550059, null, 0.7144883004821848, 0.7144883004821848, null, -0.7705859072496125, -0.7705859072496125, null, 0.15179756620801932, -0.37387418439652853, null, 0.7144883004821848, 0.15179756620801932, null, 0.15179756620801932, 0.6792587556280193, null, 0.6792587556280193, 1.699658984550059, null], \"y\": [-0.28041388352196917, -0.8065721579072184, null, 0.4509374277943182, 0.9604758684125814, null, -0.28041388352196917, -0.28041388352196917, null, -1.3283207353192399, -0.687494871308295, null, 1.3156186455897811, 1.3156186455897811, null, 0.9604758684125814, 0.9604758684125814, null, 0.4509374277943182, 0.15780691243261635, null, 1.3156186455897811, 0.4509374277943182, null, 0.4509374277943182, -0.28041388352196917, null, -0.28041388352196917, -0.687494871308295, null], \"z\": [-1.6409662695906904, -2.451822273598494, null, -0.9037133142836099, -1.2627355885982237, null, -1.6409662695906904, -1.6409662695906904, null, -1.855827875352495, -1.7637170442806573, null, -0.46634924053880916, -0.46634924053880916, null, -1.2627355885982237, -1.2627355885982237, null, -0.9037133142836099, 0.0674047915008487, null, -0.46634924053880916, -0.9037133142836099, null, -0.9037133142836099, -1.6409662695906904, null, -1.6409662695906904, -1.7637170442806573, null], \"type\": \"scatter3d\", \"uid\": \"affe71f7-aa82-40af-b1c4-c43e95965b13\"}, {\"hoverinfo\": \"text\", \"marker\": {\"colorscale\": \"Viridis\", \"line\": {\"color\": \"rgb(50,50,50)\", \"width\": 0.5}, \"size\": 6, \"symbol\": \"circle\"}, \"mode\": \"markers\", \"name\": \"actors\", \"x\": [-0.8578711318271924, -0.37387418439652853, 0.12338609137842327, 0.7144883004821848, 0.15179756620801932, 2.5124503497806856, 1.819776869963468, -0.7705859072496125, 0.6792587556280193, 1.699658984550059], \"y\": [-3.2473840949913084, 0.15780691243261635, -0.8065721579072184, 1.3156186455897811, 0.4509374277943182, -1.3283207353192399, -1.4877402562014772, 0.9604758684125814, -0.28041388352196917, -0.687494871308295], \"z\": [-0.01987706127780521, 0.0674047915008487, -2.451822273598494, -0.46634924053880916, -0.9037133142836099, -1.855827875352495, 1.9117157589365457, -1.2627355885982237, -1.6409662695906904, -1.7637170442806573], \"type\": \"scatter3d\", \"uid\": \"855a09c4-eb56-406d-8e11-ba355aff5f8d\"}], {\"height\": 1000, \"hovermode\": \"closest\", \"margin\": {\"t\": 100}, \"scene\": {\"xaxis\": {\"showbackground\": false, \"showgrid\": false, \"showline\": false, \"showticklabels\": false, \"title\": {\"text\": \"\"}, \"zeroline\": false}, \"yaxis\": {\"showbackground\": false, \"showgrid\": false, \"showline\": false, \"showticklabels\": false, \"title\": {\"text\": \"\"}, \"zeroline\": false}, \"zaxis\": {\"showbackground\": false, \"showgrid\": false, \"showline\": false, \"showticklabels\": false, \"title\": {\"text\": \"\"}, \"zeroline\": false}}, \"showlegend\": false, \"title\": {\"text\": \"Network of coappearances of characters in Victor Hugo's novel<br> Les Miserables (3D visualization)\"}, \"width\": 1000}, {\"showLink\": false, \"linkText\": \"Export to plot.ly\", \"plotlyServerURL\": \"https://plot.ly\"})});</script>"
      ],
      "text/vnd.plotly.v1+html": [
       "<div id=\"986cdb54-7d3d-45d7-9460-729c746357e5\" style=\"height: 1000px; width: 1000px;\" class=\"plotly-graph-div\"></div><script type=\"text/javascript\">require([\"plotly\"], function(Plotly) { window.PLOTLYENV=window.PLOTLYENV || {};window.PLOTLYENV.BASE_URL=\"https://plot.ly\";Plotly.newPlot(\"986cdb54-7d3d-45d7-9460-729c746357e5\", [{\"hoverinfo\": \"none\", \"line\": {\"color\": \"rgb(125,125,125)\", \"width\": 1}, \"mode\": \"lines\", \"x\": [0.6792587556280193, 0.12338609137842327, null, 0.15179756620801932, -0.7705859072496125, null, 0.6792587556280193, 0.6792587556280193, null, 2.5124503497806856, 1.699658984550059, null, 0.7144883004821848, 0.7144883004821848, null, -0.7705859072496125, -0.7705859072496125, null, 0.15179756620801932, -0.37387418439652853, null, 0.7144883004821848, 0.15179756620801932, null, 0.15179756620801932, 0.6792587556280193, null, 0.6792587556280193, 1.699658984550059, null], \"y\": [-0.28041388352196917, -0.8065721579072184, null, 0.4509374277943182, 0.9604758684125814, null, -0.28041388352196917, -0.28041388352196917, null, -1.3283207353192399, -0.687494871308295, null, 1.3156186455897811, 1.3156186455897811, null, 0.9604758684125814, 0.9604758684125814, null, 0.4509374277943182, 0.15780691243261635, null, 1.3156186455897811, 0.4509374277943182, null, 0.4509374277943182, -0.28041388352196917, null, -0.28041388352196917, -0.687494871308295, null], \"z\": [-1.6409662695906904, -2.451822273598494, null, -0.9037133142836099, -1.2627355885982237, null, -1.6409662695906904, -1.6409662695906904, null, -1.855827875352495, -1.7637170442806573, null, -0.46634924053880916, -0.46634924053880916, null, -1.2627355885982237, -1.2627355885982237, null, -0.9037133142836099, 0.0674047915008487, null, -0.46634924053880916, -0.9037133142836099, null, -0.9037133142836099, -1.6409662695906904, null, -1.6409662695906904, -1.7637170442806573, null], \"type\": \"scatter3d\", \"uid\": \"affe71f7-aa82-40af-b1c4-c43e95965b13\"}, {\"hoverinfo\": \"text\", \"marker\": {\"colorscale\": \"Viridis\", \"line\": {\"color\": \"rgb(50,50,50)\", \"width\": 0.5}, \"size\": 6, \"symbol\": \"circle\"}, \"mode\": \"markers\", \"name\": \"actors\", \"x\": [-0.8578711318271924, -0.37387418439652853, 0.12338609137842327, 0.7144883004821848, 0.15179756620801932, 2.5124503497806856, 1.819776869963468, -0.7705859072496125, 0.6792587556280193, 1.699658984550059], \"y\": [-3.2473840949913084, 0.15780691243261635, -0.8065721579072184, 1.3156186455897811, 0.4509374277943182, -1.3283207353192399, -1.4877402562014772, 0.9604758684125814, -0.28041388352196917, -0.687494871308295], \"z\": [-0.01987706127780521, 0.0674047915008487, -2.451822273598494, -0.46634924053880916, -0.9037133142836099, -1.855827875352495, 1.9117157589365457, -1.2627355885982237, -1.6409662695906904, -1.7637170442806573], \"type\": \"scatter3d\", \"uid\": \"855a09c4-eb56-406d-8e11-ba355aff5f8d\"}], {\"height\": 1000, \"hovermode\": \"closest\", \"margin\": {\"t\": 100}, \"scene\": {\"xaxis\": {\"showbackground\": false, \"showgrid\": false, \"showline\": false, \"showticklabels\": false, \"title\": {\"text\": \"\"}, \"zeroline\": false}, \"yaxis\": {\"showbackground\": false, \"showgrid\": false, \"showline\": false, \"showticklabels\": false, \"title\": {\"text\": \"\"}, \"zeroline\": false}, \"zaxis\": {\"showbackground\": false, \"showgrid\": false, \"showline\": false, \"showticklabels\": false, \"title\": {\"text\": \"\"}, \"zeroline\": false}}, \"showlegend\": false, \"title\": {\"text\": \"Network of coappearances of characters in Victor Hugo's novel<br> Les Miserables (3D visualization)\"}, \"width\": 1000}, {\"showLink\": false, \"linkText\": \"Export to plot.ly\", \"plotlyServerURL\": \"https://plot.ly\"})});</script>"
      ]
     },
     "metadata": {},
     "output_type": "display_data"
    }
   ],
   "source": [
    "import plotly.plotly as py\n",
    "import plotly.graph_objs as go\n",
    "\n",
    "trace1=go.Scatter3d(x=Xe,\n",
    "               y=Ye,\n",
    "               z=Ze,\n",
    "               mode='lines',\n",
    "               line=dict(color='rgb(125,125,125)', width=1),\n",
    "               hoverinfo='none'\n",
    "               )\n",
    "\n",
    "trace2=go.Scatter3d(x=Xn,\n",
    "               y=Yn,\n",
    "               z=Zn,\n",
    "               mode='markers',\n",
    "               name='actors',\n",
    "               marker=dict(symbol='circle',\n",
    "                             size=6,\n",
    "                             #color=group,\n",
    "                             colorscale='Viridis',\n",
    "                             line=dict(color='rgb(50,50,50)', width=0.5)\n",
    "                             ),\n",
    "               #text=labels,\n",
    "               hoverinfo='text'\n",
    "               )\n",
    "\n",
    "axis=dict(showbackground=False,\n",
    "          showline=False,\n",
    "          zeroline=False,\n",
    "          showgrid=False,\n",
    "          showticklabels=False,\n",
    "          title=''\n",
    "          )\n",
    "\n",
    "layout = go.Layout(\n",
    "         title=\"Network of coappearances of characters in Victor Hugo's novel<br> Les Miserables (3D visualization)\",\n",
    "         width=1000,\n",
    "         height=1000,\n",
    "         showlegend=False,\n",
    "         scene=dict(\n",
    "             xaxis=dict(axis),\n",
    "             yaxis=dict(axis),\n",
    "             zaxis=dict(axis),\n",
    "        ),\n",
    "     margin=dict(\n",
    "        t=100\n",
    "    ),\n",
    "    hovermode='closest',\n",
    "        )\n",
    "\n",
    "data=[trace1, trace2]\n",
    "fig=go.Figure(data=data, layout=layout)\n",
    "\n",
    "plotly.offline.iplot(fig, filename='Les-Miserables')"
   ]
  },
  {
   "cell_type": "code",
   "execution_count": 172,
   "metadata": {},
   "outputs": [],
   "source": [
    "from collections import UserDict\n",
    "\n",
    "class UniqueDict(UserDict):\n",
    "        \n",
    "    def __init__(self, *args, **kwargs):\n",
    "        super().__init__(*args, **kwargs)\n",
    "        \n",
    "    def add(self, x):\n",
    "        try:\n",
    "            return self.data[x]\n",
    "        except KeyError:\n",
    "            n = len(self.data)\n",
    "            self.data[x] = n\n",
    "            return n\n",
    "        \n",
    "    def to_list(self):\n",
    "        return sorted(self, key=self.get)\n",
    "    \n",
    "\n",
    "class RecNet():\n",
    "    \n",
    "    def __init__(self, seq):\n",
    "        edges = []\n",
    "        nodes = []\n",
    "        tokens = []\n",
    "        token_edges = []\n",
    "        unique_tokens = UniqueDict()\n",
    "        for t, tok in enumerate(map(frozenset, seq)):\n",
    "            if not tok:\n",
    "                continue\n",
    "                \n",
    "            tok_id = unique_tokens.add(tok)\n",
    "            \n",
    "            matched = set()\n",
    "            for d, tok_prev in enumerate(reversed(tokens)):\n",
    "                common = tok & tok_prev\n",
    "                if not common:\n",
    "                    continue\n",
    "                if common & matched:\n",
    "                    continue\n",
    "                \n",
    "                edges.append((t-d-1, t, common))\n",
    "                matched.update(common)\n",
    "                \n",
    "                if common == tok:\n",
    "                    break\n",
    "            \n",
    "            tokens.append(tok)\n",
    "            nodes.append(tok_id)\n",
    "        \n",
    "        \n",
    "        self.nodes = np.array(nodes)\n",
    "        self.tokens = tokens\n",
    "        self.unique_tokens = np.array(unique_tokens.to_list())\n",
    "        self.weights = np.array([w for _,_,w in edges])\n",
    "        self.edges = np.array([(t0,t1) for t0,t1,_ in edges])\n",
    "        \n",
    "        def t_to_id(t):\n",
    "            #= lambda t: \n",
    "            print(\"t=\",t,end=\" ; \")\n",
    "            print(\"self.tokens[t]=\",self.tokens[t])\n",
    "            return unique_tokens[self.tokens[t]]\n",
    "        self.edges_token_ids = np.array([(t_to_id(t0), t_to_id(t1)) for t0, t1 in self.edges])\n",
    "        \n",
    "    def summary(self, verbose_level=2):\n",
    "        fs_fmt = lambda fs: \"{\" + ','.join(fs) + \"}\"\n",
    "        list_fmt = lambda xs: \"[\" + ', '.join(xs) + \"]\"\n",
    "        if verbose_level > 1:\n",
    "            print(\"cascade identifiers:\", list_fmt(fs_fmt(t) for t in self.unique_tokens))\n",
    "        print(len(self.unique_tokens), \"cascade identifiers\")\n",
    "        print(len(self.nodes), \"nodes\")\n",
    "        if verbose_level > 1:\n",
    "            print(\"edges:\", list_fmt(f\"{s}-{d} {fs_fmt(w)}\" for (s, d), w in zip(self.edges, self.weights)))\n",
    "        print(len(self.edges), \"edges\")\n",
    "        \n",
    "    def plot(self):\n",
    "        markers = self.nodes\n",
    "        \n",
    "        import plotly.plotly as py\n",
    "        import plotly.graph_objs as go\n",
    "\n",
    "        Ytok = np.random.random([len(self.unique_tokens)])\n",
    "        Yn = Ytok[markers]\n",
    "        \n",
    "        edge_trace = go.Scatter(\n",
    "            x=[],\n",
    "            y=[],\n",
    "            line=dict(width=0.5,color='#888'),\n",
    "            hoverinfo='none',\n",
    "            mode='lines')\n",
    "\n",
    "        for (t0,t1), (n0, n1), w in zip(self.edges, self.edges_token_ides, self.weights):\n",
    "            x0, x1 = t0, t1\n",
    "            y0, y1 = Yn[n0], Yn[n1]\n",
    "            \n",
    "            edge_trace['x'] += tuple([x0, x1, None])\n",
    "            edge_trace['y'] += tuple([y0, y1, None])\n",
    "\n",
    "        node_trace = go.Scatter(\n",
    "            x=[],\n",
    "            y=[],\n",
    "            text=[],\n",
    "            mode='markers',\n",
    "            #hoverinfo='text',\n",
    "            marker=dict(\n",
    "                showscale=True,\n",
    "                # colorscale options\n",
    "                #'Greys' | 'YlGnBu' | 'Greens' | 'YlOrRd' | 'Bluered' | 'RdBu' |\n",
    "                #'Reds' | 'Blues' | 'Picnic' | 'Rainbow' | 'Portland' | 'Jet' |\n",
    "                #'Hot' | 'Blackbody' | 'Earth' | 'Electric' | 'Viridis' |\n",
    "                colorscale='YlGnBu',\n",
    "                reversescale=True,\n",
    "                color=[],\n",
    "                size=10,\n",
    "                colorbar=dict(\n",
    "                    thickness=15,\n",
    "                    title='Node Connections',\n",
    "                    xanchor='left',\n",
    "                    titleside='right'\n",
    "                ),\n",
    "                line=dict(width=2)))\n",
    "\n",
    "        for i, node in enumerate(markers):\n",
    "            x, y = i, Yn[node]\n",
    "            node_trace['x'] += tuple([x])\n",
    "            node_trace['y'] += tuple([y])\n",
    "\n",
    "        fig = go.Figure(data=[edge_trace, node_trace])\n",
    "        plotly.offline.iplot(fig)#, filename='basic-line')\n",
    "\n"
   ]
  },
  {
   "cell_type": "code",
   "execution_count": 173,
   "metadata": {},
   "outputs": [
    {
     "name": "stdout",
     "output_type": "stream",
     "text": [
      "tokens= [frozenset({'D', 'G'}), frozenset({'B', 'F'}), frozenset({'B', 'E'}), frozenset({'E'}), frozenset({'D'}), frozenset({'F'}), frozenset({'D'}), frozenset({'C'}), frozenset({'D', 'G'}), frozenset({'D', 'A'}), frozenset({'F'}), frozenset({'F'}), frozenset({'D'}), frozenset({'E'}), frozenset({'E'}), frozenset({'D', 'G'}), frozenset({'C', 'G'}), frozenset({'D'}), frozenset({'E'}), frozenset({'F'}), frozenset({'A'}), frozenset({'E', 'C'}), frozenset({'D', 'G'}), frozenset({'F'}), frozenset({'F'}), frozenset({'D'}), frozenset({'E'}), frozenset({'F', 'A'}), frozenset({'D', 'G'}), frozenset({'E'}), frozenset({'F', 'A'}), frozenset({'B', 'F'}), frozenset({'B'}), frozenset({'E'}), frozenset({'A'}), frozenset({'F', 'C', 'G'}), frozenset({'F'}), frozenset({'E'}), frozenset({'F'}), frozenset({'D', 'G'}), frozenset({'E'}), frozenset({'B', 'F'}), frozenset({'E', 'C', 'G'}), frozenset({'D', 'C'}), frozenset({'E'}), frozenset({'E', 'A'}), frozenset({'D', 'B'}), frozenset({'E'}), frozenset({'D'}), frozenset({'A'}), frozenset({'E'}), frozenset({'E'}), frozenset({'D'}), frozenset({'F'}), frozenset({'E'}), frozenset({'D', 'A', 'G'}), frozenset({'F'}), frozenset({'B'}), frozenset({'E', 'C', 'G'}), frozenset({'C'}), frozenset({'F'}), frozenset({'E'}), frozenset({'D'}), frozenset({'E'}), frozenset({'D', 'G'}), frozenset({'D', 'B'}), frozenset({'D', 'G'}), frozenset({'B', 'E'}), frozenset({'D', 'G'}), frozenset({'D', 'A', 'G'}), frozenset({'F'}), frozenset({'E', 'C'}), frozenset({'F'}), frozenset({'B', 'F'})]\n",
      "t= 1 ; self.tokens[t]= frozenset({'B', 'F'})\n",
      "t= 2 ; self.tokens[t]= frozenset({'B', 'E'})\n",
      "t= 2 ; self.tokens[t]= frozenset({'B', 'E'})\n",
      "t= 3 ; self.tokens[t]= frozenset({'E'})\n",
      "t= 0 ; self.tokens[t]= frozenset({'D', 'G'})\n",
      "t= 4 ; self.tokens[t]= frozenset({'D'})\n",
      "t= 1 ; self.tokens[t]= frozenset({'B', 'F'})\n",
      "t= 5 ; self.tokens[t]= frozenset({'F'})\n",
      "t= 5 ; self.tokens[t]= frozenset({'F'})\n",
      "t= 7 ; self.tokens[t]= frozenset({'C'})\n",
      "t= 9 ; self.tokens[t]= frozenset({'D', 'A'})\n",
      "t= 11 ; self.tokens[t]= frozenset({'F'})\n",
      "t= 12 ; self.tokens[t]= frozenset({'D'})\n",
      "t= 13 ; self.tokens[t]= frozenset({'E'})\n",
      "t= 9 ; self.tokens[t]= frozenset({'D', 'A'})\n",
      "t= 14 ; self.tokens[t]= frozenset({'E'})\n",
      "t= 14 ; self.tokens[t]= frozenset({'E'})\n",
      "t= 15 ; self.tokens[t]= frozenset({'D', 'G'})\n",
      "t= 13 ; self.tokens[t]= frozenset({'E'})\n",
      "t= 16 ; self.tokens[t]= frozenset({'C', 'G'})\n",
      "t= 7 ; self.tokens[t]= frozenset({'C'})\n",
      "t= 17 ; self.tokens[t]= frozenset({'D'})\n",
      "t= 17 ; self.tokens[t]= frozenset({'D'})\n",
      "t= 18 ; self.tokens[t]= frozenset({'E'})\n",
      "t= 16 ; self.tokens[t]= frozenset({'C', 'G'})\n",
      "t= 19 ; self.tokens[t]= frozenset({'F'})\n",
      "t= 19 ; self.tokens[t]= frozenset({'F'})\n",
      "t= 20 ; self.tokens[t]= frozenset({'A'})\n",
      "t= 11 ; self.tokens[t]= frozenset({'F'})\n",
      "t= 20 ; self.tokens[t]= frozenset({'A'})\n",
      "t= 19 ; self.tokens[t]= frozenset({'F'})\n",
      "t= 21 ; self.tokens[t]= frozenset({'E', 'C'})\n",
      "t= 18 ; self.tokens[t]= frozenset({'E'})\n",
      "t= 22 ; self.tokens[t]= frozenset({'D', 'G'})\n",
      "t= 16 ; self.tokens[t]= frozenset({'C', 'G'})\n",
      "t= 24 ; self.tokens[t]= frozenset({'F'})\n",
      "t= 14 ; self.tokens[t]= frozenset({'E'})\n",
      "t= 25 ; self.tokens[t]= frozenset({'D'})\n",
      "t= 24 ; self.tokens[t]= frozenset({'F'})\n",
      "t= 27 ; self.tokens[t]= frozenset({'F', 'A'})\n",
      "t= 22 ; self.tokens[t]= frozenset({'D', 'G'})\n",
      "t= 27 ; self.tokens[t]= frozenset({'F', 'A'})\n",
      "t= 23 ; self.tokens[t]= frozenset({'F'})\n",
      "t= 28 ; self.tokens[t]= frozenset({'D', 'G'})\n",
      "t= 22 ; self.tokens[t]= frozenset({'D', 'G'})\n",
      "t= 28 ; self.tokens[t]= frozenset({'D', 'G'})\n",
      "t= 25 ; self.tokens[t]= frozenset({'D'})\n",
      "t= 29 ; self.tokens[t]= frozenset({'E'})\n",
      "t= 29 ; self.tokens[t]= frozenset({'E'})\n",
      "t= 30 ; self.tokens[t]= frozenset({'F', 'A'})\n",
      "t= 28 ; self.tokens[t]= frozenset({'D', 'G'})\n",
      "t= 31 ; self.tokens[t]= frozenset({'B', 'F'})\n",
      "t= 29 ; self.tokens[t]= frozenset({'E'})\n",
      "t= 34 ; self.tokens[t]= frozenset({'A'})\n",
      "t= 32 ; self.tokens[t]= frozenset({'B'})\n",
      "t= 35 ; self.tokens[t]= frozenset({'F', 'C', 'G'})\n",
      "t= 28 ; self.tokens[t]= frozenset({'D', 'G'})\n",
      "t= 35 ; self.tokens[t]= frozenset({'F', 'C', 'G'})\n",
      "t= 33 ; self.tokens[t]= frozenset({'E'})\n",
      "t= 36 ; self.tokens[t]= frozenset({'F'})\n",
      "t= 24 ; self.tokens[t]= frozenset({'F'})\n",
      "t= 36 ; self.tokens[t]= frozenset({'F'})\n",
      "t= 34 ; self.tokens[t]= frozenset({'A'})\n",
      "t= 37 ; self.tokens[t]= frozenset({'E'})\n",
      "t= 35 ; self.tokens[t]= frozenset({'F', 'C', 'G'})\n",
      "t= 38 ; self.tokens[t]= frozenset({'F'})\n",
      "t= 38 ; self.tokens[t]= frozenset({'F'})\n",
      "t= 39 ; self.tokens[t]= frozenset({'D', 'G'})\n",
      "t= 10 ; self.tokens[t]= frozenset({'F'})\n",
      "t= 39 ; self.tokens[t]= frozenset({'D', 'G'})\n",
      "t= 40 ; self.tokens[t]= frozenset({'E'})\n",
      "t= 41 ; self.tokens[t]= frozenset({'B', 'F'})\n",
      "t= 38 ; self.tokens[t]= frozenset({'F'})\n",
      "t= 42 ; self.tokens[t]= frozenset({'E', 'C', 'G'})\n",
      "t= 39 ; self.tokens[t]= frozenset({'D', 'G'})\n",
      "t= 43 ; self.tokens[t]= frozenset({'D', 'C'})\n",
      "t= 40 ; self.tokens[t]= frozenset({'E'})\n",
      "t= 44 ; self.tokens[t]= frozenset({'E'})\n",
      "t= 37 ; self.tokens[t]= frozenset({'E'})\n",
      "t= 44 ; self.tokens[t]= frozenset({'E'})\n",
      "t= 30 ; self.tokens[t]= frozenset({'F', 'A'})\n",
      "t= 44 ; self.tokens[t]= frozenset({'E'})\n",
      "t= 47 ; self.tokens[t]= frozenset({'E'})\n",
      "t= 48 ; self.tokens[t]= frozenset({'D'})\n",
      "t= 45 ; self.tokens[t]= frozenset({'E', 'A'})\n",
      "t= 49 ; self.tokens[t]= frozenset({'A'})\n",
      "t= 48 ; self.tokens[t]= frozenset({'D'})\n",
      "t= 50 ; self.tokens[t]= frozenset({'E'})\n",
      "t= 48 ; self.tokens[t]= frozenset({'D'})\n",
      "t= 52 ; self.tokens[t]= frozenset({'D'})\n",
      "t= 38 ; self.tokens[t]= frozenset({'F'})\n",
      "t= 52 ; self.tokens[t]= frozenset({'D'})\n",
      "t= 50 ; self.tokens[t]= frozenset({'E'})\n",
      "t= 53 ; self.tokens[t]= frozenset({'F'})\n",
      "t= 51 ; self.tokens[t]= frozenset({'E'})\n",
      "t= 54 ; self.tokens[t]= frozenset({'E'})\n",
      "t= 45 ; self.tokens[t]= frozenset({'E', 'A'})\n",
      "t= 54 ; self.tokens[t]= frozenset({'E'})\n",
      "t= 53 ; self.tokens[t]= frozenset({'F'})\n",
      "t= 55 ; self.tokens[t]= frozenset({'D', 'A', 'G'})\n",
      "t= 52 ; self.tokens[t]= frozenset({'D'})\n",
      "t= 55 ; self.tokens[t]= frozenset({'D', 'A', 'G'})\n",
      "t= 20 ; self.tokens[t]= frozenset({'A'})\n",
      "t= 55 ; self.tokens[t]= frozenset({'D', 'A', 'G'})\n",
      "t= 56 ; self.tokens[t]= frozenset({'F'})\n",
      "t= 57 ; self.tokens[t]= frozenset({'B'})\n",
      "t= 53 ; self.tokens[t]= frozenset({'F'})\n",
      "t= 57 ; self.tokens[t]= frozenset({'B'})\n",
      "t= 57 ; self.tokens[t]= frozenset({'B'})\n",
      "t= 59 ; self.tokens[t]= frozenset({'C'})\n",
      "t= 59 ; self.tokens[t]= frozenset({'C'})\n",
      "t= 60 ; self.tokens[t]= frozenset({'F'})\n",
      "t= 49 ; self.tokens[t]= frozenset({'A'})\n",
      "t= 60 ; self.tokens[t]= frozenset({'F'})\n",
      "t= 58 ; self.tokens[t]= frozenset({'E', 'C', 'G'})\n",
      "t= 61 ; self.tokens[t]= frozenset({'E'})\n",
      "t= 56 ; self.tokens[t]= frozenset({'F'})\n",
      "t= 61 ; self.tokens[t]= frozenset({'E'})\n",
      "t= 60 ; self.tokens[t]= frozenset({'F'})\n",
      "t= 62 ; self.tokens[t]= frozenset({'D'})\n",
      "t= 61 ; self.tokens[t]= frozenset({'E'})\n",
      "t= 63 ; self.tokens[t]= frozenset({'E'})\n",
      "t= 60 ; self.tokens[t]= frozenset({'F'})\n",
      "t= 64 ; self.tokens[t]= frozenset({'D', 'G'})\n",
      "t= 62 ; self.tokens[t]= frozenset({'D'})\n",
      "t= 65 ; self.tokens[t]= frozenset({'D', 'B'})\n",
      "t= 65 ; self.tokens[t]= frozenset({'D', 'B'})\n",
      "t= 66 ; self.tokens[t]= frozenset({'D', 'G'})\n",
      "t= 63 ; self.tokens[t]= frozenset({'E'})\n",
      "t= 67 ; self.tokens[t]= frozenset({'B', 'E'})\n",
      "t= 56 ; self.tokens[t]= frozenset({'F'})\n",
      "t= 68 ; self.tokens[t]= frozenset({'D', 'G'})\n",
      "t= 67 ; self.tokens[t]= frozenset({'B', 'E'})\n",
      "t= 70 ; self.tokens[t]= frozenset({'F'})\n",
      "t= 72 ; self.tokens[t]= frozenset({'F'})\n",
      "t= 75 ; "
     ]
    },
    {
     "ename": "IndexError",
     "evalue": "list index out of range",
     "output_type": "error",
     "traceback": [
      "\u001b[1;31m---------------------------------------------------------------------------\u001b[0m",
      "\u001b[1;31mIndexError\u001b[0m                                Traceback (most recent call last)",
      "\u001b[1;32m<ipython-input-173-4ae136b7e172>\u001b[0m in \u001b[0;36m<module>\u001b[1;34m\u001b[0m\n\u001b[0;32m     12\u001b[0m         \u001b[1;32myield\u001b[0m \u001b[0mtoks\u001b[0m\u001b[1;33m\u001b[0m\u001b[1;33m\u001b[0m\u001b[0m\n\u001b[0;32m     13\u001b[0m \u001b[1;33m\u001b[0m\u001b[0m\n\u001b[1;32m---> 14\u001b[1;33m \u001b[0mnet\u001b[0m \u001b[1;33m=\u001b[0m \u001b[0mRecNet\u001b[0m\u001b[1;33m(\u001b[0m\u001b[0mseq\u001b[0m\u001b[1;33m(\u001b[0m\u001b[1;33m)\u001b[0m\u001b[1;33m)\u001b[0m\u001b[1;33m\u001b[0m\u001b[1;33m\u001b[0m\u001b[0m\n\u001b[0m\u001b[0;32m     15\u001b[0m \u001b[0mnet\u001b[0m\u001b[1;33m.\u001b[0m\u001b[0msummary\u001b[0m\u001b[1;33m(\u001b[0m\u001b[1;33m)\u001b[0m\u001b[1;33m\u001b[0m\u001b[1;33m\u001b[0m\u001b[0m\n\u001b[0;32m     16\u001b[0m \u001b[0mnet\u001b[0m\u001b[1;33m.\u001b[0m\u001b[0mplot\u001b[0m\u001b[1;33m(\u001b[0m\u001b[1;33m)\u001b[0m\u001b[1;33m\u001b[0m\u001b[1;33m\u001b[0m\u001b[0m\n",
      "\u001b[1;32m<ipython-input-172-d30a430064b7>\u001b[0m in \u001b[0;36m__init__\u001b[1;34m(self, seq)\u001b[0m\n\u001b[0;32m     62\u001b[0m             \u001b[0mprint\u001b[0m\u001b[1;33m(\u001b[0m\u001b[1;34m\"self.tokens[t]=\"\u001b[0m\u001b[1;33m,\u001b[0m\u001b[0mself\u001b[0m\u001b[1;33m.\u001b[0m\u001b[0mtokens\u001b[0m\u001b[1;33m[\u001b[0m\u001b[0mt\u001b[0m\u001b[1;33m]\u001b[0m\u001b[1;33m)\u001b[0m\u001b[1;33m\u001b[0m\u001b[1;33m\u001b[0m\u001b[0m\n\u001b[0;32m     63\u001b[0m             \u001b[1;32mreturn\u001b[0m \u001b[0munique_tokens\u001b[0m\u001b[1;33m[\u001b[0m\u001b[0mself\u001b[0m\u001b[1;33m.\u001b[0m\u001b[0mtokens\u001b[0m\u001b[1;33m[\u001b[0m\u001b[0mt\u001b[0m\u001b[1;33m]\u001b[0m\u001b[1;33m]\u001b[0m\u001b[1;33m\u001b[0m\u001b[1;33m\u001b[0m\u001b[0m\n\u001b[1;32m---> 64\u001b[1;33m         \u001b[0mself\u001b[0m\u001b[1;33m.\u001b[0m\u001b[0medges_token_ids\u001b[0m \u001b[1;33m=\u001b[0m \u001b[0mnp\u001b[0m\u001b[1;33m.\u001b[0m\u001b[0marray\u001b[0m\u001b[1;33m(\u001b[0m\u001b[1;33m[\u001b[0m\u001b[1;33m(\u001b[0m\u001b[0mt_to_id\u001b[0m\u001b[1;33m(\u001b[0m\u001b[0mt0\u001b[0m\u001b[1;33m)\u001b[0m\u001b[1;33m,\u001b[0m \u001b[0mt_to_id\u001b[0m\u001b[1;33m(\u001b[0m\u001b[0mt1\u001b[0m\u001b[1;33m)\u001b[0m\u001b[1;33m)\u001b[0m \u001b[1;32mfor\u001b[0m \u001b[0mt0\u001b[0m\u001b[1;33m,\u001b[0m \u001b[0mt1\u001b[0m \u001b[1;32min\u001b[0m \u001b[0mself\u001b[0m\u001b[1;33m.\u001b[0m\u001b[0medges\u001b[0m\u001b[1;33m]\u001b[0m\u001b[1;33m)\u001b[0m\u001b[1;33m\u001b[0m\u001b[1;33m\u001b[0m\u001b[0m\n\u001b[0m\u001b[0;32m     65\u001b[0m \u001b[1;33m\u001b[0m\u001b[0m\n\u001b[0;32m     66\u001b[0m     \u001b[1;32mdef\u001b[0m \u001b[0msummary\u001b[0m\u001b[1;33m(\u001b[0m\u001b[0mself\u001b[0m\u001b[1;33m,\u001b[0m \u001b[0mverbose_level\u001b[0m\u001b[1;33m=\u001b[0m\u001b[1;36m2\u001b[0m\u001b[1;33m)\u001b[0m\u001b[1;33m:\u001b[0m\u001b[1;33m\u001b[0m\u001b[1;33m\u001b[0m\u001b[0m\n",
      "\u001b[1;32m<ipython-input-172-d30a430064b7>\u001b[0m in \u001b[0;36m<listcomp>\u001b[1;34m(.0)\u001b[0m\n\u001b[0;32m     62\u001b[0m             \u001b[0mprint\u001b[0m\u001b[1;33m(\u001b[0m\u001b[1;34m\"self.tokens[t]=\"\u001b[0m\u001b[1;33m,\u001b[0m\u001b[0mself\u001b[0m\u001b[1;33m.\u001b[0m\u001b[0mtokens\u001b[0m\u001b[1;33m[\u001b[0m\u001b[0mt\u001b[0m\u001b[1;33m]\u001b[0m\u001b[1;33m)\u001b[0m\u001b[1;33m\u001b[0m\u001b[1;33m\u001b[0m\u001b[0m\n\u001b[0;32m     63\u001b[0m             \u001b[1;32mreturn\u001b[0m \u001b[0munique_tokens\u001b[0m\u001b[1;33m[\u001b[0m\u001b[0mself\u001b[0m\u001b[1;33m.\u001b[0m\u001b[0mtokens\u001b[0m\u001b[1;33m[\u001b[0m\u001b[0mt\u001b[0m\u001b[1;33m]\u001b[0m\u001b[1;33m]\u001b[0m\u001b[1;33m\u001b[0m\u001b[1;33m\u001b[0m\u001b[0m\n\u001b[1;32m---> 64\u001b[1;33m         \u001b[0mself\u001b[0m\u001b[1;33m.\u001b[0m\u001b[0medges_token_ids\u001b[0m \u001b[1;33m=\u001b[0m \u001b[0mnp\u001b[0m\u001b[1;33m.\u001b[0m\u001b[0marray\u001b[0m\u001b[1;33m(\u001b[0m\u001b[1;33m[\u001b[0m\u001b[1;33m(\u001b[0m\u001b[0mt_to_id\u001b[0m\u001b[1;33m(\u001b[0m\u001b[0mt0\u001b[0m\u001b[1;33m)\u001b[0m\u001b[1;33m,\u001b[0m \u001b[0mt_to_id\u001b[0m\u001b[1;33m(\u001b[0m\u001b[0mt1\u001b[0m\u001b[1;33m)\u001b[0m\u001b[1;33m)\u001b[0m \u001b[1;32mfor\u001b[0m \u001b[0mt0\u001b[0m\u001b[1;33m,\u001b[0m \u001b[0mt1\u001b[0m \u001b[1;32min\u001b[0m \u001b[0mself\u001b[0m\u001b[1;33m.\u001b[0m\u001b[0medges\u001b[0m\u001b[1;33m]\u001b[0m\u001b[1;33m)\u001b[0m\u001b[1;33m\u001b[0m\u001b[1;33m\u001b[0m\u001b[0m\n\u001b[0m\u001b[0;32m     65\u001b[0m \u001b[1;33m\u001b[0m\u001b[0m\n\u001b[0;32m     66\u001b[0m     \u001b[1;32mdef\u001b[0m \u001b[0msummary\u001b[0m\u001b[1;33m(\u001b[0m\u001b[0mself\u001b[0m\u001b[1;33m,\u001b[0m \u001b[0mverbose_level\u001b[0m\u001b[1;33m=\u001b[0m\u001b[1;36m2\u001b[0m\u001b[1;33m)\u001b[0m\u001b[1;33m:\u001b[0m\u001b[1;33m\u001b[0m\u001b[1;33m\u001b[0m\u001b[0m\n",
      "\u001b[1;32m<ipython-input-172-d30a430064b7>\u001b[0m in \u001b[0;36mt_to_id\u001b[1;34m(t)\u001b[0m\n\u001b[0;32m     60\u001b[0m             \u001b[1;31m#= lambda t:\u001b[0m\u001b[1;33m\u001b[0m\u001b[1;33m\u001b[0m\u001b[1;33m\u001b[0m\u001b[0m\n\u001b[0;32m     61\u001b[0m             \u001b[0mprint\u001b[0m\u001b[1;33m(\u001b[0m\u001b[1;34m\"t=\"\u001b[0m\u001b[1;33m,\u001b[0m\u001b[0mt\u001b[0m\u001b[1;33m,\u001b[0m\u001b[0mend\u001b[0m\u001b[1;33m=\u001b[0m\u001b[1;34m\" ; \"\u001b[0m\u001b[1;33m)\u001b[0m\u001b[1;33m\u001b[0m\u001b[1;33m\u001b[0m\u001b[0m\n\u001b[1;32m---> 62\u001b[1;33m             \u001b[0mprint\u001b[0m\u001b[1;33m(\u001b[0m\u001b[1;34m\"self.tokens[t]=\"\u001b[0m\u001b[1;33m,\u001b[0m\u001b[0mself\u001b[0m\u001b[1;33m.\u001b[0m\u001b[0mtokens\u001b[0m\u001b[1;33m[\u001b[0m\u001b[0mt\u001b[0m\u001b[1;33m]\u001b[0m\u001b[1;33m)\u001b[0m\u001b[1;33m\u001b[0m\u001b[1;33m\u001b[0m\u001b[0m\n\u001b[0m\u001b[0;32m     63\u001b[0m             \u001b[1;32mreturn\u001b[0m \u001b[0munique_tokens\u001b[0m\u001b[1;33m[\u001b[0m\u001b[0mself\u001b[0m\u001b[1;33m.\u001b[0m\u001b[0mtokens\u001b[0m\u001b[1;33m[\u001b[0m\u001b[0mt\u001b[0m\u001b[1;33m]\u001b[0m\u001b[1;33m]\u001b[0m\u001b[1;33m\u001b[0m\u001b[1;33m\u001b[0m\u001b[0m\n\u001b[0;32m     64\u001b[0m         \u001b[0mself\u001b[0m\u001b[1;33m.\u001b[0m\u001b[0medges_token_ids\u001b[0m \u001b[1;33m=\u001b[0m \u001b[0mnp\u001b[0m\u001b[1;33m.\u001b[0m\u001b[0marray\u001b[0m\u001b[1;33m(\u001b[0m\u001b[1;33m[\u001b[0m\u001b[1;33m(\u001b[0m\u001b[0mt_to_id\u001b[0m\u001b[1;33m(\u001b[0m\u001b[0mt0\u001b[0m\u001b[1;33m)\u001b[0m\u001b[1;33m,\u001b[0m \u001b[0mt_to_id\u001b[0m\u001b[1;33m(\u001b[0m\u001b[0mt1\u001b[0m\u001b[1;33m)\u001b[0m\u001b[1;33m)\u001b[0m \u001b[1;32mfor\u001b[0m \u001b[0mt0\u001b[0m\u001b[1;33m,\u001b[0m \u001b[0mt1\u001b[0m \u001b[1;32min\u001b[0m \u001b[0mself\u001b[0m\u001b[1;33m.\u001b[0m\u001b[0medges\u001b[0m\u001b[1;33m]\u001b[0m\u001b[1;33m)\u001b[0m\u001b[1;33m\u001b[0m\u001b[1;33m\u001b[0m\u001b[0m\n",
      "\u001b[1;31mIndexError\u001b[0m: list index out of range"
     ]
    }
   ],
   "source": [
    "import random\n",
    "def seq():\n",
    "    for i in range(100):\n",
    "        toks = []\n",
    "        if random.random() < .3:\n",
    "            toks.append(random.choice(\"ABC\"))\n",
    "        if random.random() < .7:\n",
    "            toks.append(random.choice(\"DEF\"))\n",
    "        if random.random() < .5 and (\"D\" in toks or \"C\" in toks):\n",
    "            toks.append(\"G\")\n",
    "            \n",
    "        yield toks\n",
    "\n",
    "net = RecNet(seq())\n",
    "net.summary()\n",
    "net.plot()"
   ]
  },
  {
   "cell_type": "code",
   "execution_count": 171,
   "metadata": {},
   "outputs": [
    {
     "ename": "NameError",
     "evalue": "name 't' is not defined",
     "output_type": "error",
     "traceback": [
      "\u001b[1;31m---------------------------------------------------------------------------\u001b[0m",
      "\u001b[1;31mNameError\u001b[0m                                 Traceback (most recent call last)",
      "\u001b[1;32m<ipython-input-171-34fc7a11cb38>\u001b[0m in \u001b[0;36m<module>\u001b[1;34m\u001b[0m\n\u001b[1;32m----> 1\u001b[1;33m \u001b[0mt\u001b[0m\u001b[1;33m\u001b[0m\u001b[1;33m\u001b[0m\u001b[0m\n\u001b[0m",
      "\u001b[1;31mNameError\u001b[0m: name 't' is not defined"
     ]
    }
   ],
   "source": [
    "t"
   ]
  },
  {
   "cell_type": "code",
   "execution_count": 108,
   "metadata": {},
   "outputs": [
    {
     "data": {
      "text/plain": [
       "'A'"
      ]
     },
     "execution_count": 108,
     "metadata": {},
     "output_type": "execute_result"
    }
   ],
   "source": [
    "random.choice(\"ABC\")"
   ]
  },
  {
   "cell_type": "code",
   "execution_count": 112,
   "metadata": {},
   "outputs": [
    {
     "data": {
      "text/plain": [
       "11"
      ]
     },
     "execution_count": 112,
     "metadata": {},
     "output_type": "execute_result"
    }
   ],
   "source": [
    "len(\"094-099 {D}\")"
   ]
  },
  {
   "cell_type": "code",
   "execution_count": 121,
   "metadata": {},
   "outputs": [
    {
     "name": "stdout",
     "output_type": "stream",
     "text": [
      "Help on built-in function sorted in module builtins:\n",
      "\n",
      "sorted(iterable, /, *, key=None, reverse=False)\n",
      "    Return a new list containing all items from the iterable in ascending order.\n",
      "    \n",
      "    A custom key function can be supplied to customize the sort order, and the\n",
      "    reverse flag can be set to request the result in descending order.\n",
      "\n"
     ]
    }
   ],
   "source": [
    "help(sorted)"
   ]
  },
  {
   "cell_type": "code",
   "execution_count": null,
   "metadata": {},
   "outputs": [],
   "source": []
  }
 ],
 "metadata": {
  "kernelspec": {
   "display_name": "Python 3",
   "language": "python",
   "name": "python3"
  },
  "language_info": {
   "codemirror_mode": {
    "name": "ipython",
    "version": 3
   },
   "file_extension": ".py",
   "mimetype": "text/x-python",
   "name": "python",
   "nbconvert_exporter": "python",
   "pygments_lexer": "ipython3",
   "version": "3.6.8"
  }
 },
 "nbformat": 4,
 "nbformat_minor": 2
}
